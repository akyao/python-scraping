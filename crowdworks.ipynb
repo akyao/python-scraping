{
 "metadata": {
  "name": "",
  "signature": "sha256:41b378709f8671f1ecbed30400eedacbb18efc78d4ed1eae8e6fba48cf5b1fc9"
 },
 "nbformat": 3,
 "nbformat_minor": 0,
 "worksheets": [
  {
   "cells": [
    {
     "cell_type": "code",
     "collapsed": false,
     "input": [
      "# coding: utf-8\n",
      "\n",
      "import lxml.html\n",
      "import requests\n",
      "import pandas as pd\n",
      "import time"
     ],
     "language": "python",
     "metadata": {},
     "outputs": [],
     "prompt_number": 1
    },
    {
     "cell_type": "code",
     "collapsed": false,
     "input": [
      "list_url_tmpl = \"https://crowdworks.jp/public/jobs/group/{}?page={}\"\n",
      "categories = [\"development\", \"web_products\", \"ec\", \"software_development\"]"
     ],
     "language": "python",
     "metadata": {},
     "outputs": [],
     "prompt_number": 2
    },
    {
     "cell_type": "code",
     "collapsed": false,
     "input": [
      "first_page_url = list_url_tmpl.format(categories[0], 1)\n",
      "res = requests.get(first_page_url)\n",
      "target_html = res.text\n",
      "root = lxml.html.fromstring(target_html)"
     ],
     "language": "python",
     "metadata": {},
     "outputs": [
      {
       "output_type": "stream",
       "stream": "stderr",
       "text": [
        "",
        "  InsecurePlatformWarning\n"
       ]
      }
     ],
     "prompt_number": 3
    },
    {
     "cell_type": "code",
     "collapsed": false,
     "input": [
      "# 1\u30da\u30fc\u30b8\u3042\u305f\u308a\u4ef6\u6570\n",
      "count_per_page = 30\n",
      "# \u30da\u30fc\u30b8\u6570\n",
      "last_page_url = root.cssselect('.pagination_body .bottom')[0].attrib['href']\n",
      "count_page = last_page_url[last_page_url.find(\"page=\") + 5:]\n",
      "# \u6848\u4ef6\u6570\n",
      "job_count = root.cssselect('.result_count span')[0].text_content()\n",
      "\n",
      "print \"page count={}, job count={}\".format(count_page, job_count)"
     ],
     "language": "python",
     "metadata": {},
     "outputs": [
      {
       "output_type": "stream",
       "stream": "stdout",
       "text": [
        "page count=413, job count=12,387\n"
       ]
      }
     ],
     "prompt_number": 10
    },
    {
     "cell_type": "code",
     "collapsed": false,
     "input": [
      "jobs = root.cssselect(\".jobs_lists > li\")"
     ],
     "language": "python",
     "metadata": {},
     "outputs": [],
     "prompt_number": 14
    },
    {
     "cell_type": "code",
     "collapsed": false,
     "input": [
      "df = pd.DataFrame(columns =['title', 'url', 'sub_category', 'payment_style', 'payment_amount1', 'payment_amount2', 'entry_count'])"
     ],
     "language": "python",
     "metadata": {},
     "outputs": [],
     "prompt_number": 22
    },
    {
     "cell_type": "code",
     "collapsed": false,
     "input": [
      "for job in jobs:\n",
      "    title = job.cssselect(\".item_title a\")[0].text_content()\n",
      "    url = job.cssselect(\".item_title a\")[0].attrib['href']\n",
      "    sub_category = job.cssselect(\".sub_category\")[0].text_content().strip()\n",
      "    payment_style = job.cssselect(\".payment_label\")[0].text_content()\n",
      "    payment_amount = job.cssselect(\".amount span\")\n",
      "    payment_amount1 = job.cssselect(\".amount\")[0].text_content().strip() if len(payment_amount) == 0 else payment_amount[0].text_content()\n",
      "    payment_amount2 = payment_amount[1].text_content() if len(payment_amount) > 1 else \"\"\n",
      "    entry_count = job.cssselect(\".entries b span\")[0].text_content()\n",
      "    s = pd.Series([title, url, sub_category, payment_style, payment_amount1, payment_amount2, entry_count],index=['title', 'url', 'sub_category', 'payment_style', 'payment_amount1', 'payment_amount2', 'entry_count'], name = url)\n",
      "    df = df.append(s)"
     ],
     "language": "python",
     "metadata": {},
     "outputs": [],
     "prompt_number": 30
    },
    {
     "cell_type": "code",
     "collapsed": false,
     "input": [
      "df[:5]"
     ],
     "language": "python",
     "metadata": {},
     "outputs": [
      {
       "html": [
        "<div style=\"max-height:1000px;max-width:1500px;overflow:auto;\">\n",
        "<table border=\"1\" class=\"dataframe\">\n",
        "  <thead>\n",
        "    <tr style=\"text-align: right;\">\n",
        "      <th></th>\n",
        "      <th>title</th>\n",
        "      <th>url</th>\n",
        "      <th>sub_category</th>\n",
        "      <th>payment_style</th>\n",
        "      <th>payment_amount1</th>\n",
        "      <th>payment_amount2</th>\n",
        "      <th>entry_count</th>\n",
        "    </tr>\n",
        "  </thead>\n",
        "  <tbody>\n",
        "    <tr>\n",
        "      <th>/public/jobs/719556</th>\n",
        "      <td>           MYSQL\u306e\u30af\u30a8\u30ea\u306e\u6539\u5584\u53ca\u3073\u30a4\u30f3\u30c7\u30c3\u30af\u30b9\u306e\u8cbc\u308a\u65b9\u30c1\u30a7\u30c3\u30af</td>\n",
        "      <td> /public/jobs/719556</td>\n",
        "      <td> \u30c7\u30fc\u30bf\u30d9\u30fc\u30b9\u8a2d\u8a08\u30fb\u69cb\u7bc9</td>\n",
        "      <td> \u56fa\u5b9a\u5831\u916c\u5236</td>\n",
        "      <td> \u4e88\u7b97\u306f\u30e1\u30f3\u30d0\u30fc\u3068\u76f8\u8ac7</td>\n",
        "      <td>        </td>\n",
        "      <td> 0</td>\n",
        "    </tr>\n",
        "    <tr>\n",
        "      <th>/public/jobs/719394</th>\n",
        "      <td>         \u3010\u6025\u52df\uff01\u3011\u30a2\u30af\u30bb\u30b9\u306e\u305f\u3073\u306b\u4fa1\u683c\u30fb\u5728\u5eab\u304c\u66f4\u65b0\u3055\u308c\u308bWEB\u30b5\u30a4\u30c8</td>\n",
        "      <td> /public/jobs/719394</td>\n",
        "      <td>  Web\u30d7\u30ed\u30b0\u30e9\u30df\u30f3\u30b0</td>\n",
        "      <td> \u56fa\u5b9a\u5831\u916c\u5236</td>\n",
        "      <td> \u4e88\u7b97\u306f\u30e1\u30f3\u30d0\u30fc\u3068\u76f8\u8ac7</td>\n",
        "      <td>        </td>\n",
        "      <td> 0</td>\n",
        "    </tr>\n",
        "    <tr>\n",
        "      <th>/public/jobs/719198</th>\n",
        "      <td>             \u3010\u6025\u52df\uff01\u3011\u691c\u7d22\u30ef\u30fc\u30c9\u3092\u57fa\u306bWEB\u53c2\u7167\u2192\u30b5\u30a4\u30c8\u81ea\u52d5\u751f\u6210</td>\n",
        "      <td> /public/jobs/719198</td>\n",
        "      <td> \u30b5\u30a4\u30c8\u69cb\u7bc9\u30fb\u30a6\u30a7\u30d6\u958b\u767a</td>\n",
        "      <td> \u56fa\u5b9a\u5831\u916c\u5236</td>\n",
        "      <td> \u4e88\u7b97\u306f\u30e1\u30f3\u30d0\u30fc\u3068\u76f8\u8ac7</td>\n",
        "      <td>        </td>\n",
        "      <td> 0</td>\n",
        "    </tr>\n",
        "    <tr>\n",
        "      <th>/public/jobs/719049</th>\n",
        "      <td>     \u3010\u5927\u81f3\u6025\u30fb\u7d99\u7d9a\u3011 PHP\uff06WordPress\u306e\u30d7\u30ed\u30d5\u30a7\u30c3\u30b7\u30e7\u30ca\u30eb\u52df\u96c6</td>\n",
        "      <td> /public/jobs/719049</td>\n",
        "      <td> \u30b5\u30a4\u30c8\u69cb\u7bc9\u30fb\u30a6\u30a7\u30d6\u958b\u767a</td>\n",
        "      <td> \u56fa\u5b9a\u5831\u916c\u5236</td>\n",
        "      <td> \u4e88\u7b97\u306f\u30e1\u30f3\u30d0\u30fc\u3068\u76f8\u8ac7</td>\n",
        "      <td>        </td>\n",
        "      <td> 2</td>\n",
        "    </tr>\n",
        "    <tr>\n",
        "      <th>/public/jobs/719023</th>\n",
        "      <td> \u3010\u5f0a\u793e\u98a8\u8a55\u30b5\u30fc\u30d3\u30b9\u306e\u30b7\u30b9\u30c6\u30e0\u958b\u767a\u4f9d\u983c\u3000\uff1a\u3000\u691c\u7d22\u30a8\u30f3\u30b8\u30f3\u30ef\u30fc\u30c9\u53ca\u3073\u30b5\u30a4\u30c8\u62bd\u51fa\u3011</td>\n",
        "      <td> /public/jobs/719023</td>\n",
        "      <td> \u305d\u306e\u4ed6\uff08\u30b7\u30b9\u30c6\u30e0\u958b\u767a\uff09</td>\n",
        "      <td> \u56fa\u5b9a\u5831\u916c\u5236</td>\n",
        "      <td>    100,000</td>\n",
        "      <td> 300,000</td>\n",
        "      <td> 2</td>\n",
        "    </tr>\n",
        "  </tbody>\n",
        "</table>\n",
        "</div>"
       ],
       "metadata": {},
       "output_type": "pyout",
       "prompt_number": 31,
       "text": [
        "                                                      title  \\\n",
        "/public/jobs/719556            MYSQL\u306e\u30af\u30a8\u30ea\u306e\u6539\u5584\u53ca\u3073\u30a4\u30f3\u30c7\u30c3\u30af\u30b9\u306e\u8cbc\u308a\u65b9\u30c1\u30a7\u30c3\u30af   \n",
        "/public/jobs/719394          \u3010\u6025\u52df\uff01\u3011\u30a2\u30af\u30bb\u30b9\u306e\u305f\u3073\u306b\u4fa1\u683c\u30fb\u5728\u5eab\u304c\u66f4\u65b0\u3055\u308c\u308bWEB\u30b5\u30a4\u30c8   \n",
        "/public/jobs/719198              \u3010\u6025\u52df\uff01\u3011\u691c\u7d22\u30ef\u30fc\u30c9\u3092\u57fa\u306bWEB\u53c2\u7167\u2192\u30b5\u30a4\u30c8\u81ea\u52d5\u751f\u6210   \n",
        "/public/jobs/719049      \u3010\u5927\u81f3\u6025\u30fb\u7d99\u7d9a\u3011 PHP\uff06WordPress\u306e\u30d7\u30ed\u30d5\u30a7\u30c3\u30b7\u30e7\u30ca\u30eb\u52df\u96c6   \n",
        "/public/jobs/719023  \u3010\u5f0a\u793e\u98a8\u8a55\u30b5\u30fc\u30d3\u30b9\u306e\u30b7\u30b9\u30c6\u30e0\u958b\u767a\u4f9d\u983c\u3000\uff1a\u3000\u691c\u7d22\u30a8\u30f3\u30b8\u30f3\u30ef\u30fc\u30c9\u53ca\u3073\u30b5\u30a4\u30c8\u62bd\u51fa\u3011   \n",
        "\n",
        "                                     url sub_category payment_style  \\\n",
        "/public/jobs/719556  /public/jobs/719556  \u30c7\u30fc\u30bf\u30d9\u30fc\u30b9\u8a2d\u8a08\u30fb\u69cb\u7bc9         \u56fa\u5b9a\u5831\u916c\u5236   \n",
        "/public/jobs/719394  /public/jobs/719394   Web\u30d7\u30ed\u30b0\u30e9\u30df\u30f3\u30b0         \u56fa\u5b9a\u5831\u916c\u5236   \n",
        "/public/jobs/719198  /public/jobs/719198  \u30b5\u30a4\u30c8\u69cb\u7bc9\u30fb\u30a6\u30a7\u30d6\u958b\u767a         \u56fa\u5b9a\u5831\u916c\u5236   \n",
        "/public/jobs/719049  /public/jobs/719049  \u30b5\u30a4\u30c8\u69cb\u7bc9\u30fb\u30a6\u30a7\u30d6\u958b\u767a         \u56fa\u5b9a\u5831\u916c\u5236   \n",
        "/public/jobs/719023  /public/jobs/719023  \u305d\u306e\u4ed6\uff08\u30b7\u30b9\u30c6\u30e0\u958b\u767a\uff09         \u56fa\u5b9a\u5831\u916c\u5236   \n",
        "\n",
        "                    payment_amount1 payment_amount2 entry_count  \n",
        "/public/jobs/719556      \u4e88\u7b97\u306f\u30e1\u30f3\u30d0\u30fc\u3068\u76f8\u8ac7                           0  \n",
        "/public/jobs/719394      \u4e88\u7b97\u306f\u30e1\u30f3\u30d0\u30fc\u3068\u76f8\u8ac7                           0  \n",
        "/public/jobs/719198      \u4e88\u7b97\u306f\u30e1\u30f3\u30d0\u30fc\u3068\u76f8\u8ac7                           0  \n",
        "/public/jobs/719049      \u4e88\u7b97\u306f\u30e1\u30f3\u30d0\u30fc\u3068\u76f8\u8ac7                           2  \n",
        "/public/jobs/719023         100,000         300,000           2  "
       ]
      }
     ],
     "prompt_number": 31
    },
    {
     "cell_type": "code",
     "collapsed": false,
     "input": [],
     "language": "python",
     "metadata": {},
     "outputs": []
    }
   ],
   "metadata": {}
  }
 ]
}
