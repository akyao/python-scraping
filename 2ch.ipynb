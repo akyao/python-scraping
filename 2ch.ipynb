{
 "metadata": {
  "name": "",
  "signature": "sha256:7831072d9008eb5a5e10a9b4b576864d934400ab98ec37b987bb29be11a39a26"
 },
 "nbformat": 3,
 "nbformat_minor": 0,
 "worksheets": [
  {
   "cells": [
    {
     "cell_type": "code",
     "collapsed": false,
     "input": [
      "# coding: utf-8\n",
      "\n",
      "import lxml.html\n",
      "import requests\n",
      "import pandas as pd\n",
      "import time"
     ],
     "language": "python",
     "metadata": {},
     "outputs": [],
     "prompt_number": 69
    },
    {
     "cell_type": "markdown",
     "metadata": {},
     "source": [
      "# 2ch \u677f\u4e00\u89a7"
     ]
    },
    {
     "cell_type": "code",
     "collapsed": false,
     "input": [
      "df_ita = pd.DataFrame(columns =['board_name', 'url'])"
     ],
     "language": "python",
     "metadata": {},
     "outputs": [],
     "prompt_number": 70
    },
    {
     "cell_type": "code",
     "collapsed": false,
     "input": [
      "target_url = 'http://menu.2ch.net/bbsmenu.html'\n",
      "res = requests.get(target_url)\n",
      "res.encoding = 'shift-JIS'\n",
      "target_html = res.text\n",
      "root = lxml.html.fromstring(target_html)"
     ],
     "language": "python",
     "metadata": {},
     "outputs": [],
     "prompt_number": 71
    },
    {
     "cell_type": "code",
     "collapsed": false,
     "input": [
      "items = root.cssselect('font a')\n",
      "for item in items:\n",
      "    board_name =  item.text_content()\n",
      "    url = item.attrib['href']\n",
      "    s = pd.Series([board_name, url], index=['board_name', 'url'], name = board_name)\n",
      "    df_ita = df_ita.append(s)"
     ],
     "language": "python",
     "metadata": {},
     "outputs": [],
     "prompt_number": 72
    },
    {
     "cell_type": "code",
     "collapsed": false,
     "input": [
      "df_ita[:5]"
     ],
     "language": "python",
     "metadata": {},
     "outputs": [
      {
       "html": [
        "<div style=\"max-height:1000px;max-width:1500px;overflow:auto;\">\n",
        "<table border=\"1\" class=\"dataframe\">\n",
        "  <thead>\n",
        "    <tr style=\"text-align: right;\">\n",
        "      <th></th>\n",
        "      <th>board_name</th>\n",
        "      <th>url</th>\n",
        "    </tr>\n",
        "  </thead>\n",
        "  <tbody>\n",
        "    <tr>\n",
        "      <th>2ch\u306e\u5165\u308a\u53e3</th>\n",
        "      <td>  2ch\u306e\u5165\u308a\u53e3</td>\n",
        "      <td>     http://www.2ch.net/</td>\n",
        "    </tr>\n",
        "    <tr>\n",
        "      <th>2ch\u7dcf\u5408\u6848\u5185</th>\n",
        "      <td>  2ch\u7dcf\u5408\u6848\u5185</td>\n",
        "      <td>    http://info.2ch.net/</td>\n",
        "    </tr>\n",
        "    <tr>\n",
        "      <th>2ch IRC</th>\n",
        "      <td>  2ch IRC</td>\n",
        "      <td> http://irc.2ch.net:4096</td>\n",
        "    </tr>\n",
        "    <tr>\n",
        "      <th>\u691c\u7d22[\u30d9\u30fc\u30bf\u7248]</th>\n",
        "      <td> \u691c\u7d22[\u30d9\u30fc\u30bf\u7248]</td>\n",
        "      <td>  http://search.2ch.net/</td>\n",
        "    </tr>\n",
        "    <tr>\n",
        "      <th>\u8d85\u30b9\u30ec\u30bf\u30a4\u691c\u7d22</th>\n",
        "      <td>  \u8d85\u30b9\u30ec\u30bf\u30a4\u691c\u7d22</td>\n",
        "      <td>     http://dig.2ch.net/</td>\n",
        "    </tr>\n",
        "  </tbody>\n",
        "</table>\n",
        "</div>"
       ],
       "metadata": {},
       "output_type": "pyout",
       "prompt_number": 73,
       "text": [
        "         board_name                      url\n",
        "2ch\u306e\u5165\u308a\u53e3     2ch\u306e\u5165\u308a\u53e3      http://www.2ch.net/\n",
        "2ch\u7dcf\u5408\u6848\u5185     2ch\u7dcf\u5408\u6848\u5185     http://info.2ch.net/\n",
        "2ch IRC     2ch IRC  http://irc.2ch.net:4096\n",
        "\u691c\u7d22[\u30d9\u30fc\u30bf\u7248]   \u691c\u7d22[\u30d9\u30fc\u30bf\u7248]   http://search.2ch.net/\n",
        "\u8d85\u30b9\u30ec\u30bf\u30a4\u691c\u7d22     \u8d85\u30b9\u30ec\u30bf\u30a4\u691c\u7d22      http://dig.2ch.net/"
       ]
      }
     ],
     "prompt_number": 73
    },
    {
     "cell_type": "markdown",
     "metadata": {},
     "source": [
      "# 2ch \u30b9\u30ec\u30c3\u30c9\u4e00\u89a7"
     ]
    },
    {
     "cell_type": "code",
     "collapsed": false,
     "input": [
      "df_thread = pd.DataFrame(columns =['order', 'thread_name', 'url', 'count'])"
     ],
     "language": "python",
     "metadata": {},
     "outputs": [],
     "prompt_number": 74
    },
    {
     "cell_type": "code",
     "collapsed": false,
     "input": [
      "target_url = 'http://hanabi.2ch.net/juice/subback.html'\n",
      "res = requests.get(target_url)\n",
      "res.encoding = 'shift-JIS'\n",
      "target_html = res.text\n",
      "root = lxml.html.fromstring(target_html)"
     ],
     "language": "python",
     "metadata": {},
     "outputs": [],
     "prompt_number": 75
    },
    {
     "cell_type": "code",
     "collapsed": false,
     "input": [
      "items = root.cssselect('#trad a')\n",
      "for item in items:\n",
      "    thread_name2 =  item.text_content()\n",
      "    url = item.attrib['href']\n",
      "    order,  thread_name3 = thread_name2.split(\":\", 1)\n",
      "    kakko_index = thread_name3.rfind(\"(\")\n",
      "    count = thread_name3[kakko_index:]\n",
      "    count = count.replace(\"(\", \"\").replace(\")\", \"\")\n",
      "    thread_name = thread_name3[:kakko_index].strip()\n",
      "    s = pd.Series([order, thread_name, url, count], index=['order', 'thread_name', 'url', 'count'], name = order)\n",
      "    df_thread = df_thread.append(s)"
     ],
     "language": "python",
     "metadata": {},
     "outputs": [],
     "prompt_number": 76
    },
    {
     "cell_type": "code",
     "collapsed": false,
     "input": [
      "df_thread[:5]"
     ],
     "language": "python",
     "metadata": {},
     "outputs": [
      {
       "html": [
        "<div style=\"max-height:1000px;max-width:1500px;overflow:auto;\">\n",
        "<table border=\"1\" class=\"dataframe\">\n",
        "  <thead>\n",
        "    <tr style=\"text-align: right;\">\n",
        "      <th></th>\n",
        "      <th>order</th>\n",
        "      <th>thread_name</th>\n",
        "      <th>url</th>\n",
        "      <th>count</th>\n",
        "    </tr>\n",
        "  </thead>\n",
        "  <tbody>\n",
        "    <tr>\n",
        "      <th>1</th>\n",
        "      <td> 1</td>\n",
        "      <td>                                    \u6d6a\u4eba\u306f\u3053\u3093\u306a\u306b\u4fbf\u5229</td>\n",
        "      <td> 9242222222/l50</td>\n",
        "      <td>   1</td>\n",
        "    </tr>\n",
        "    <tr>\n",
        "      <th>2</th>\n",
        "      <td> 2</td>\n",
        "      <td>                            \u96ea\u5370\u306e\u30b3\u30fc\u30d2\u30fc\u725b\u4e73\u306e\u3064\u3044\u3066\u71b1\u304f\u8a9e\u308c</td>\n",
        "      <td> 1014487447/l50</td>\n",
        "      <td> 411</td>\n",
        "    </tr>\n",
        "    <tr>\n",
        "      <th>3</th>\n",
        "      <td> 3</td>\n",
        "      <td>                     \u30bd\u30d5\u30c8\u30c9\u30ea\u30f3\u30af\u3067\u5fcd\u6cd5\u5e16\u3000!ninja \u30c6\u30b9\u30c8\u30b9\u30ec</td>\n",
        "      <td> 1324807512/l50</td>\n",
        "      <td> 950</td>\n",
        "    </tr>\n",
        "    <tr>\n",
        "      <th>4</th>\n",
        "      <td> 4</td>\n",
        "      <td> ID\u306b\u30c9\u30ea\u30f3\u30af\u3068\u30e1\u30fc\u30ab\u30fc\u540d\u304c\u51fa\u308b\u307e\u3067\u9811\u5f35\u308b\u30b9\u30ec 121 [\u7121\u65ad\u8ee2\u8f09\u7981\u6b62]\u00a92ch.net</td>\n",
        "      <td> 1465315148/l50</td>\n",
        "      <td> 269</td>\n",
        "    </tr>\n",
        "    <tr>\n",
        "      <th>5</th>\n",
        "      <td> 5</td>\n",
        "      <td>      \u30b5\u30f3\u30ac\u30ea\u30a2\u306eiPhone\u30b1\u30fc\u30b9\u304c\u767a\u58f2\u3055\u308c\u3066\u308b [\u7121\u65ad\u8ee2\u8f09\u7981\u6b62]\u00a92ch.net</td>\n",
        "      <td> 1468607591/l50</td>\n",
        "      <td>   1</td>\n",
        "    </tr>\n",
        "  </tbody>\n",
        "</table>\n",
        "</div>"
       ],
       "metadata": {},
       "output_type": "pyout",
       "prompt_number": 77,
       "text": [
        "  order                                   thread_name             url count\n",
        "1     1                                     \u6d6a\u4eba\u306f\u3053\u3093\u306a\u306b\u4fbf\u5229  9242222222/l50     1\n",
        "2     2                             \u96ea\u5370\u306e\u30b3\u30fc\u30d2\u30fc\u725b\u4e73\u306e\u3064\u3044\u3066\u71b1\u304f\u8a9e\u308c  1014487447/l50   411\n",
        "3     3                      \u30bd\u30d5\u30c8\u30c9\u30ea\u30f3\u30af\u3067\u5fcd\u6cd5\u5e16\u3000!ninja \u30c6\u30b9\u30c8\u30b9\u30ec  1324807512/l50   950\n",
        "4     4  ID\u306b\u30c9\u30ea\u30f3\u30af\u3068\u30e1\u30fc\u30ab\u30fc\u540d\u304c\u51fa\u308b\u307e\u3067\u9811\u5f35\u308b\u30b9\u30ec 121 [\u7121\u65ad\u8ee2\u8f09\u7981\u6b62]\u00a92ch.net  1465315148/l50   269\n",
        "5     5       \u30b5\u30f3\u30ac\u30ea\u30a2\u306eiPhone\u30b1\u30fc\u30b9\u304c\u767a\u58f2\u3055\u308c\u3066\u308b [\u7121\u65ad\u8ee2\u8f09\u7981\u6b62]\u00a92ch.net  1468607591/l50     1"
       ]
      }
     ],
     "prompt_number": 77
    },
    {
     "cell_type": "code",
     "collapsed": false,
     "input": [
      "b = \"(453)\""
     ],
     "language": "python",
     "metadata": {},
     "outputs": [],
     "prompt_number": 78
    },
    {
     "cell_type": "code",
     "collapsed": false,
     "input": [
      "b.replace(\"(\", \"\").replace(\")\", \"\")"
     ],
     "language": "python",
     "metadata": {},
     "outputs": [
      {
       "metadata": {},
       "output_type": "pyout",
       "prompt_number": 79,
       "text": [
        "'453'"
       ]
      }
     ],
     "prompt_number": 79
    },
    {
     "cell_type": "markdown",
     "metadata": {},
     "source": [
      "# 2ch \u66f8\u304d\u8fbc\u307f"
     ]
    },
    {
     "cell_type": "code",
     "collapsed": false,
     "input": [
      "df_kakiko = pd.DataFrame(columns =['number', 'name', 'date', 'id', 'body'])"
     ],
     "language": "python",
     "metadata": {},
     "outputs": [],
     "prompt_number": 80
    },
    {
     "cell_type": "code",
     "collapsed": false,
     "input": [
      "target_url = 'http://hanabi.2ch.net/test/read.cgi/juice/1014487447/-100'\n",
      "res = requests.get(target_url)\n",
      "res.encoding = 'shift-JIS'\n",
      "target_html = res.text\n",
      "root = lxml.html.fromstring(target_html)"
     ],
     "language": "python",
     "metadata": {},
     "outputs": [],
     "prompt_number": 81
    },
    {
     "cell_type": "code",
     "collapsed": false,
     "input": [
      "items = root.cssselect('.post')\n",
      "for item in items:\n",
      "    number =  item.cssselect('.number')[0].text_content()\n",
      "    number = number.replace(\":\", \"\").strip()\n",
      "    name =  item.cssselect('.name b')[0].text_content()\n",
      "    date_id = item.cssselect('.date')[0].text_content()\n",
      "    date, id = date_id.split(\"ID:\")\n",
      "    body = item.cssselect('.message')[0].text_content()\n",
      "    s = pd.Series([number, name, date, id, body], index=['number', 'name', 'date', 'id', 'body'], name = number)\n",
      "    df_kakiko = df_kakiko.append(s)"
     ],
     "language": "python",
     "metadata": {},
     "outputs": [],
     "prompt_number": 82
    },
    {
     "cell_type": "code",
     "collapsed": false,
     "input": [
      "df_kakiko[:10]"
     ],
     "language": "python",
     "metadata": {},
     "outputs": [
      {
       "html": [
        "<div style=\"max-height:1000px;max-width:1500px;overflow:auto;\">\n",
        "<table border=\"1\" class=\"dataframe\">\n",
        "  <thead>\n",
        "    <tr style=\"text-align: right;\">\n",
        "      <th></th>\n",
        "      <th>number</th>\n",
        "      <th>name</th>\n",
        "      <th>date</th>\n",
        "      <th>id</th>\n",
        "      <th>body</th>\n",
        "    </tr>\n",
        "  </thead>\n",
        "  <tbody>\n",
        "    <tr>\n",
        "      <th>1</th>\n",
        "      <td>  1</td>\n",
        "      <td> \u5185\u5bb9\u91cf\u3000774ml</td>\n",
        "      <td> 02/02/24 03:04 </td>\n",
        "      <td> o1jAL+UJ</td>\n",
        "      <td>                           \u7121\u304f\u306a\u3089\u306a\u3044\u3068\u8a00\u3044\u3064\u3064  \u7121\u304f\u306a\u308b\u6c17\u304c\u3059\u308b\u3088 </td>\n",
        "    </tr>\n",
        "    <tr>\n",
        "      <th>2</th>\n",
        "      <td>  2</td>\n",
        "      <td> \u5185\u5bb9\u91cf\u3000774ml</td>\n",
        "      <td> 02/02/24 10:22 </td>\n",
        "      <td> BlSZk1U9</td>\n",
        "      <td>                                      \u98f2\u307f\u30c0\u30e1\u3057\u306a\u304d\u3083\uff12\u3052\u3068 </td>\n",
        "    </tr>\n",
        "    <tr>\n",
        "      <th>3</th>\n",
        "      <td>  3</td>\n",
        "      <td> \u5185\u5bb9\u91cf\u3000774ml</td>\n",
        "      <td> 02/02/24 10:31 </td>\n",
        "      <td> Mv4YHRK3</td>\n",
        "      <td>      \u4ffa\u306f\u597d\u304d\u3060\u3063\u305f\uff65\uff65\uff65\uff65\uff65\uff65\u904e\u53bb\u5f62\u3060  \u3082\u3046\u96ea\u5370\u3068\u306e\u95a2\u4fc2\u306f\u51b7\u3048\u5207\u3063\u3066\u3044\u308b\u304b\u3089\u71b1\u304f\u8a9e\u308c\u306a\u3044 </td>\n",
        "    </tr>\n",
        "    <tr>\n",
        "      <th>4</th>\n",
        "      <td>  4</td>\n",
        "      <td> \u5185\u5bb9\u91cf\u3000774ml</td>\n",
        "      <td> 02/02/24 12:08 </td>\n",
        "      <td> HJoW7K9D</td>\n",
        "      <td>  \u4ffa\u306f\u4eca\u3067\u3082\u5927\u597d\u304d\u3060\uff01  \u5225\u306b\u4e0d\u7965\u4e8b\u306a\u3093\u3066\u95a2\u4fc2\u306a\u3044\uff01  \u4ffa\u306f\u98f2\u307f\u7d9a\u3051\u308b\uff01  \u9006\u306b\u4eca\u306f\u3084\u3059\u304f\u306a...</td>\n",
        "    </tr>\n",
        "    <tr>\n",
        "      <th>5</th>\n",
        "      <td>  5</td>\n",
        "      <td> \u5185\u5bb9\u91cf\u3000774ml</td>\n",
        "      <td> 02/02/24 12:48 </td>\n",
        "      <td> +Z18kurh</td>\n",
        "      <td>                                          \u3082\u3046\u98f2\u3093\u3067\u306a\u3044 </td>\n",
        "    </tr>\n",
        "    <tr>\n",
        "      <th>6</th>\n",
        "      <td>  6</td>\n",
        "      <td> \u5185\u5bb9\u91cf\u3000774ml</td>\n",
        "      <td> 02/02/24 13:53 </td>\n",
        "      <td> /4FWgN2v</td>\n",
        "      <td>                           \u30b3\u30fc\u30d2\u30fc\u725b\u4e73\u306e\u4e2d\u3058\u3083\u6700\u5f37\u3060\u3063\u305f\u3093\u3060\u3051\u3069\u306a\u30fb\u30fb </td>\n",
        "    </tr>\n",
        "    <tr>\n",
        "      <th>7</th>\n",
        "      <td>  7</td>\n",
        "      <td>        \u4e09\u5e73</td>\n",
        "      <td> 02/02/24 14:07 </td>\n",
        "      <td> bfHSuENQ</td>\n",
        "      <td>  \u5451\u6c17\u306b\u30cb\u30e5\u30fc\u30b9\u3092\u898b\u3066\u305f\u3051\u3069\u305d\u3046\u304b\u3001\u5f53\u7136\u30b3\u30fc\u30d2\u30fc\u725b\u4e73\u3082\u306a\u304f\u306a\u308b\u308f\u3051\u3060\u3002  \u4ffa\u3082\u5927\u597d\u7269\u3060\u3063\u305f\u304b...</td>\n",
        "    </tr>\n",
        "    <tr>\n",
        "      <th>8</th>\n",
        "      <td>  8</td>\n",
        "      <td> \u5185\u5bb9\u91cf\u3000774ml</td>\n",
        "      <td> 02/02/24 20:04 </td>\n",
        "      <td> 6MBQv1MA</td>\n",
        "      <td>                    \u30b3\u30fc\u30d2\u30fc\u725b\u4e73\u3063\u3066\u306e\u307f\u3060\u3059\u3068\u6b62\u307e\u3089\u306a\u3044\u3002\u300d  \u592a\u3063\u3061\u3083\u3046\u3088\u3002 </td>\n",
        "    </tr>\n",
        "    <tr>\n",
        "      <th>9</th>\n",
        "      <td>  9</td>\n",
        "      <td> \u5185\u5bb9\u91cf\u3000774ml</td>\n",
        "      <td> 02/02/24 22:24 </td>\n",
        "      <td> o1jAL+UJ</td>\n",
        "      <td>                           \u30b3\u30fc\u30d2\u30fc\u725b\u4e73\u3060\u3051\u3001\u306a\u3093\u3068\u304b\u3001\u5b58\u7d9a\u3055\u305b\u3066\u6b32\u3057\u3044 </td>\n",
        "    </tr>\n",
        "    <tr>\n",
        "      <th>10</th>\n",
        "      <td> 10</td>\n",
        "      <td>       age</td>\n",
        "      <td> 02/02/25 23:14 </td>\n",
        "      <td>      ???</td>\n",
        "      <td>                                              age </td>\n",
        "    </tr>\n",
        "  </tbody>\n",
        "</table>\n",
        "</div>"
       ],
       "metadata": {},
       "output_type": "pyout",
       "prompt_number": 83,
       "text": [
        "   number       name             date        id  \\\n",
        "1       1  \u5185\u5bb9\u91cf\u3000774ml  02/02/24 03:04   o1jAL+UJ   \n",
        "2       2  \u5185\u5bb9\u91cf\u3000774ml  02/02/24 10:22   BlSZk1U9   \n",
        "3       3  \u5185\u5bb9\u91cf\u3000774ml  02/02/24 10:31   Mv4YHRK3   \n",
        "4       4  \u5185\u5bb9\u91cf\u3000774ml  02/02/24 12:08   HJoW7K9D   \n",
        "5       5  \u5185\u5bb9\u91cf\u3000774ml  02/02/24 12:48   +Z18kurh   \n",
        "6       6  \u5185\u5bb9\u91cf\u3000774ml  02/02/24 13:53   /4FWgN2v   \n",
        "7       7         \u4e09\u5e73  02/02/24 14:07   bfHSuENQ   \n",
        "8       8  \u5185\u5bb9\u91cf\u3000774ml  02/02/24 20:04   6MBQv1MA   \n",
        "9       9  \u5185\u5bb9\u91cf\u3000774ml  02/02/24 22:24   o1jAL+UJ   \n",
        "10     10        age  02/02/25 23:14        ???   \n",
        "\n",
        "                                                 body  \n",
        "1                             \u7121\u304f\u306a\u3089\u306a\u3044\u3068\u8a00\u3044\u3064\u3064  \u7121\u304f\u306a\u308b\u6c17\u304c\u3059\u308b\u3088   \n",
        "2                                        \u98f2\u307f\u30c0\u30e1\u3057\u306a\u304d\u3083\uff12\u3052\u3068   \n",
        "3        \u4ffa\u306f\u597d\u304d\u3060\u3063\u305f\uff65\uff65\uff65\uff65\uff65\uff65\u904e\u53bb\u5f62\u3060  \u3082\u3046\u96ea\u5370\u3068\u306e\u95a2\u4fc2\u306f\u51b7\u3048\u5207\u3063\u3066\u3044\u308b\u304b\u3089\u71b1\u304f\u8a9e\u308c\u306a\u3044   \n",
        "4    \u4ffa\u306f\u4eca\u3067\u3082\u5927\u597d\u304d\u3060\uff01  \u5225\u306b\u4e0d\u7965\u4e8b\u306a\u3093\u3066\u95a2\u4fc2\u306a\u3044\uff01  \u4ffa\u306f\u98f2\u307f\u7d9a\u3051\u308b\uff01  \u9006\u306b\u4eca\u306f\u3084\u3059\u304f\u306a...  \n",
        "5                                            \u3082\u3046\u98f2\u3093\u3067\u306a\u3044   \n",
        "6                             \u30b3\u30fc\u30d2\u30fc\u725b\u4e73\u306e\u4e2d\u3058\u3083\u6700\u5f37\u3060\u3063\u305f\u3093\u3060\u3051\u3069\u306a\u30fb\u30fb   \n",
        "7    \u5451\u6c17\u306b\u30cb\u30e5\u30fc\u30b9\u3092\u898b\u3066\u305f\u3051\u3069\u305d\u3046\u304b\u3001\u5f53\u7136\u30b3\u30fc\u30d2\u30fc\u725b\u4e73\u3082\u306a\u304f\u306a\u308b\u308f\u3051\u3060\u3002  \u4ffa\u3082\u5927\u597d\u7269\u3060\u3063\u305f\u304b...  \n",
        "8                      \u30b3\u30fc\u30d2\u30fc\u725b\u4e73\u3063\u3066\u306e\u307f\u3060\u3059\u3068\u6b62\u307e\u3089\u306a\u3044\u3002\u300d  \u592a\u3063\u3061\u3083\u3046\u3088\u3002   \n",
        "9                             \u30b3\u30fc\u30d2\u30fc\u725b\u4e73\u3060\u3051\u3001\u306a\u3093\u3068\u304b\u3001\u5b58\u7d9a\u3055\u305b\u3066\u6b32\u3057\u3044   \n",
        "10                                               age   "
       ]
      }
     ],
     "prompt_number": 83
    }
   ],
   "metadata": {}
  }
 ]
}