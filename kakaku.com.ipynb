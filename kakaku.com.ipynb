{
 "metadata": {
  "name": "",
  "signature": "sha256:ec4870a54c9ebf59627af06c3d19dad5f6af75c35f6926803e570dbf9bab64b3"
 },
 "nbformat": 3,
 "nbformat_minor": 0,
 "worksheets": [
  {
   "cells": [
    {
     "cell_type": "code",
     "collapsed": false,
     "input": [
      "# coding: utf-8\n",
      "\n",
      "import lxml.html\n",
      "import requests\n",
      "import pandas as pd\n",
      "import time"
     ],
     "language": "python",
     "metadata": {},
     "outputs": [],
     "prompt_number": 57
    },
    {
     "cell_type": "markdown",
     "metadata": {},
     "source": [
      "# \u30e9\u30f3\u30ad\u30f3\u30b0\u30da\u30fc\u30b8\u30b9\u30af\u30ec\u30a4\u30d4\u30f3\u30b0"
     ]
    },
    {
     "cell_type": "code",
     "collapsed": false,
     "input": [
      "df = pd.DataFrame(columns =['ranking', 'name', 'url', 'price'])"
     ],
     "language": "python",
     "metadata": {},
     "outputs": [],
     "prompt_number": 51
    },
    {
     "cell_type": "code",
     "collapsed": false,
     "input": [
      "def load_ranking_page(page):\n",
      "    global df\n",
      "    target_url = 'http://kakaku.com/pc/note-pc/ranking_0020/?page={}'.format(page)\n",
      "    res = requests.get(target_url)\n",
      "    res.encoding = 'shift-JIS'\n",
      "    target_html = res.text\n",
      "    root = lxml.html.fromstring(target_html)\n",
      "    \n",
      "    items = root.cssselect('#main .rkgContents .rkgBox')\n",
      "    for item in items:\n",
      "        name_a = item.cssselect('.rkgBoxName a')[0]\n",
      "        name = name_a.text_content()\n",
      "        url = name_a.attrib['href']\n",
      "        ranking = item.cssselect('.rkgBoxNo span')[0].text_content()\n",
      "        price = item.cssselect('.rkgPrice .price a')[0].text_content()\n",
      "        s = pd.Series([ranking, name, url, price],index=['ranking', 'name', 'url', 'price'], name = ranking)\n",
      "        df = df.append(s)"
     ],
     "language": "python",
     "metadata": {},
     "outputs": [],
     "prompt_number": 54
    },
    {
     "cell_type": "code",
     "collapsed": false,
     "input": [
      "for page in range(1, 5):\n",
      "    load_ranking_page(page)\n",
      "    time.sleep(2)"
     ],
     "language": "python",
     "metadata": {},
     "outputs": [],
     "prompt_number": 55
    },
    {
     "cell_type": "code",
     "collapsed": false,
     "input": [
      "df[:5]"
     ],
     "language": "python",
     "metadata": {},
     "outputs": [
      {
       "html": [
        "<div style=\"max-height:1000px;max-width:1500px;overflow:auto;\">\n",
        "<table border=\"1\" class=\"dataframe\">\n",
        "  <thead>\n",
        "    <tr style=\"text-align: right;\">\n",
        "      <th></th>\n",
        "      <th>ranking</th>\n",
        "      <th>name</th>\n",
        "      <th>url</th>\n",
        "      <th>price</th>\n",
        "    </tr>\n",
        "  </thead>\n",
        "  <tbody>\n",
        "    <tr>\n",
        "      <th>1</th>\n",
        "      <td> 1</td>\n",
        "      <td> Dell Inspiron 11 3000\u30b7\u30ea\u30fc\u30ba \u4fa1\u683c.com\u9650\u5b9a \u30a8\u30f3\u30c8\u30ea\u30fc\u30fb\u30d7\u30e9\u30b9 P...</td>\n",
        "      <td> http://kakaku.com/item/J0000018367/</td>\n",
        "      <td> \u00a539,938</td>\n",
        "    </tr>\n",
        "    <tr>\n",
        "      <th>2</th>\n",
        "      <td> 2</td>\n",
        "      <td>                   HP HP 15-af100 \u30d5\u30ebHD \u4fa1\u683c.com\u9650\u5b9a\u30e2\u30c7\u30eb</td>\n",
        "      <td> http://kakaku.com/item/K0000858449/</td>\n",
        "      <td> \u00a538,340</td>\n",
        "    </tr>\n",
        "    <tr>\n",
        "      <th>3</th>\n",
        "      <td> 3</td>\n",
        "      <td>    HP Pavilion 15-AU000 \u4fa1\u683c.com\u9650\u5b9a \u30d5\u30ebHD&amp;Corei5\u642d\u8f09\u30e2\u30c7\u30eb</td>\n",
        "      <td> http://kakaku.com/item/J0000019045/</td>\n",
        "      <td> \u00a561,020</td>\n",
        "    </tr>\n",
        "    <tr>\n",
        "      <th>4</th>\n",
        "      <td> 4</td>\n",
        "      <td> \u30de\u30a6\u30b9\u30b3\u30f3\u30d4\u30e5\u30fc\u30bf\u30fc LuvBook LB-F571X-SSD2-KK \u4fa1\u683c.com\u9650\u5b9a C...</td>\n",
        "      <td> http://kakaku.com/item/K0000837189/</td>\n",
        "      <td> \u00a589,800</td>\n",
        "    </tr>\n",
        "    <tr>\n",
        "      <th>5</th>\n",
        "      <td> 5</td>\n",
        "      <td>     \u6771\u829d dynabook AZ15/VB PAZ15VB-SNA-K \u4fa1\u683c.com\u9650\u5b9a\u30e2\u30c7\u30eb</td>\n",
        "      <td> http://kakaku.com/item/K0000871486/</td>\n",
        "      <td> \u00a548,600</td>\n",
        "    </tr>\n",
        "  </tbody>\n",
        "</table>\n",
        "</div>"
       ],
       "metadata": {},
       "output_type": "pyout",
       "prompt_number": 58,
       "text": [
        "  ranking                                               name  \\\n",
        "1       1  Dell Inspiron 11 3000\u30b7\u30ea\u30fc\u30ba \u4fa1\u683c.com\u9650\u5b9a \u30a8\u30f3\u30c8\u30ea\u30fc\u30fb\u30d7\u30e9\u30b9 P...   \n",
        "2       2                    HP HP 15-af100 \u30d5\u30ebHD \u4fa1\u683c.com\u9650\u5b9a\u30e2\u30c7\u30eb   \n",
        "3       3     HP Pavilion 15-AU000 \u4fa1\u683c.com\u9650\u5b9a \u30d5\u30ebHD&Corei5\u642d\u8f09\u30e2\u30c7\u30eb   \n",
        "4       4  \u30de\u30a6\u30b9\u30b3\u30f3\u30d4\u30e5\u30fc\u30bf\u30fc LuvBook LB-F571X-SSD2-KK \u4fa1\u683c.com\u9650\u5b9a C...   \n",
        "5       5      \u6771\u829d dynabook AZ15/VB PAZ15VB-SNA-K \u4fa1\u683c.com\u9650\u5b9a\u30e2\u30c7\u30eb   \n",
        "\n",
        "                                   url    price  \n",
        "1  http://kakaku.com/item/J0000018367/  \u00a539,938  \n",
        "2  http://kakaku.com/item/K0000858449/  \u00a538,340  \n",
        "3  http://kakaku.com/item/J0000019045/  \u00a561,020  \n",
        "4  http://kakaku.com/item/K0000837189/  \u00a589,800  \n",
        "5  http://kakaku.com/item/K0000871486/  \u00a548,600  "
       ]
      }
     ],
     "prompt_number": 58
    },
    {
     "cell_type": "markdown",
     "metadata": {},
     "source": [
      "# \u5546\u54c1\u30da\u30fc\u30b8\u30b9\u30af\u30ec\u30a4\u30d4\u30f3\u30b0"
     ]
    },
    {
     "cell_type": "code",
     "collapsed": false,
     "input": [],
     "language": "python",
     "metadata": {},
     "outputs": []
    }
   ],
   "metadata": {}
  }
 ]
}