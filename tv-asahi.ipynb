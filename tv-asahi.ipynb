{
 "metadata": {
  "name": "",
  "signature": "sha256:4fcf1aca255063017482a95d6a1111d3ad8b2e58864a1a94f6d3e5d3b16d0ad8"
 },
 "nbformat": 3,
 "nbformat_minor": 0,
 "worksheets": [
  {
   "cells": [
    {
     "cell_type": "markdown",
     "metadata": {},
     "source": [
      "# \u74b0\u5883\u8a2d\u5b9a\n",
      "\n",
      "```\n",
      "pip install requests\n",
      "pip install lxml\n",
      "\n",
      "pip install selenium\n",
      "Elcapitan\u306fbrew install phantomjs\u3067\u304d\u306a\u304b\u3063\u305f\u306e\u3067\u4ee5\u4e0b\u3092\u53c2\u8003\u306b\u30a4\u30f3\u30b9\u30c8\u30fc\u30eb\n",
      "http://qiita.com/sato_ryu/items/227b00df1e2b5690a816\n",
      "```"
     ]
    },
    {
     "cell_type": "markdown",
     "metadata": {},
     "source": [
      "# \u901a\u5e38\u306e\u30da\u30fc\u30b8\u306e\u8aad\u307f\u8fbc\u307f"
     ]
    },
    {
     "cell_type": "code",
     "collapsed": false,
     "input": [
      "# coding: utf-8\n",
      "\n",
      "# http://qiita.com/beatinaniwa/items/72b777e23ef2390e13f8\n",
      "# \u3053\u308c\u304c\u6587\u5b57\u5316\u3051\u3067\u52d5\u304b\u306a\u304b\u3063\u305f\u306e\u3067\u30a8\u30f3\u30b3\u30fc\u30c9\u8ffd\u52a0\n",
      "\n",
      "import lxml.html\n",
      "import requests"
     ],
     "language": "python",
     "metadata": {},
     "outputs": [],
     "prompt_number": 4
    },
    {
     "cell_type": "code",
     "collapsed": false,
     "input": [
      "target_url = 'http://news.tv-asahi.co.jp/news_politics/articles/000041338.html'\n",
      "res = requests.get(target_url)"
     ],
     "language": "python",
     "metadata": {},
     "outputs": [],
     "prompt_number": 2
    },
    {
     "cell_type": "code",
     "collapsed": false,
     "input": [
      "#print res.encoding\n",
      "#print res.apparent_encoding\n",
      "res.encoding = 'shift-JIS'\n",
      "target_html = res.text #.decode('shift_JIS')\n",
      "root = lxml.html.fromstring(target_html)"
     ],
     "language": "python",
     "metadata": {},
     "outputs": [],
     "prompt_number": 3
    },
    {
     "cell_type": "code",
     "collapsed": false,
     "input": [
      "print root.cssselect('#news_body > p')[0].text_content()\n",
      "#text = lxml.html.tostring(root.cssselect('#news_body > p')[0],encoding=\"shift-jis\")\n",
      "#print text.encode('shift-jis').decode('utf-8')"
     ],
     "language": "python",
     "metadata": {},
     "outputs": [
      {
       "output_type": "stream",
       "stream": "stdout",
       "text": [
        "\u3000\u5b89\u500d\u7dcf\u7406\u5927\u81e3\u306f\u56fd\u4f1a\u3067\u3001\u7b2c97\u4ee3\u306e\u5185\u95a3\u7dcf\u7406\u5927\u81e3\u306b\u518d\u3073\u9078\u51fa\u3055\u308c\u307e\u3057\u305f\u3002\u76f4\u3061\u306b\u7b2c3\u6b21\u5185\u95a3\u306e\u7d44\u95a3\u4f5c\u696d\u306b\u5165\u308a\u307e\u3059\u3002\n",
        "\n",
        "\u3000\u753a\u6751\u8846\u9662\u8b70\u9577\uff1a\u300c\u5b89\u500d\u664b\u4e09\u541b\u3092\u672c\u9662\u306b\u304a\u3044\u3066\u5185\u95a3\u7dcf\u7406\u5927\u81e3\u306b\u6307\u540d\u3059\u308b\u3053\u3068\u306b\u6c7a\u307e\u308a\u307e\u3057\u305f\u300d\n",
        "\u3000\u8846\u53c2\u4e21\u9662\u3067\u7dcf\u7406\u5927\u81e3\u306e\u6307\u540d\u9078\u6319\u304c\u884c\u308f\u308c\u305f\u7d50\u679c\u3001\u5b89\u500d\u7dcf\u7406\u304c\u81ea\u6c11\u515a\u3068\u516c\u660e\u515a\u306e\u6295\u7968\u306b\u3088\u308a\u3001\u7b2c97\u4ee3\u7dcf\u7406\u5927\u81e3\u306b\u9078\u51fa\u3055\u308c\u307e\u3057\u305f\u3002\u307e\u305f\u3001\u3053\u308c\u306b\u5148\u7acb\u3064\u8846\u8b70\u9662\u306e\u6b63\u526f\u8b70\u9577\u9078\u6319\u3067\u306f\u3001\u81ea\u6c11\u515a\u306e\u753a\u6751\u5143\u5b98\u623f\u9577\u5b98\u304c\u8b70\u9577\u306b\u3001\u6c11\u4e3b\u515a\u306e\u5ddd\u7aef\u5143\u7dcf\u52d9\u5927\u81e3\u304c\u526f\u8b70\u9577\u306b\u305d\u308c\u305e\u308c\u9078\u3070\u308c\u307e\u3057\u305f\u3002\u5b89\u500d\u7dcf\u7406\u306f24\u65e5\u4e2d\u306b\u7b2c3\u6b21\u5b89\u500d\u5185\u95a3\u3092\u767a\u8db3\u3055\u305b\u308b\u65b9\u91dd\u3067\u3001\u518d\u4efb\u3092\u56fa\u8f9e\u3057\u305f\u6c5f\u6e21\u9632\u885b\u5927\u81e3\u3092\u4e2d\u8c37\u5143\u9632\u885b\u5e81\u9577\u5b98\u306b\u4ea4\u4ee3\u3055\u305b\u308b\u4ee5\u5916\u306f\u3001\u3059\u3079\u3066\u306e\u95a3\u50da\u3092\u518d\u4efb\u3059\u308b\u3053\u3068\u306b\u3057\u3066\u3044\u307e\u3059\u3002\n"
       ]
      }
     ],
     "prompt_number": 4
    },
    {
     "cell_type": "markdown",
     "metadata": {},
     "source": [
      "# Javascript\u30da\u30fc\u30b8\u306e\u8aad\u307f\u8fbc\u307f"
     ]
    },
    {
     "cell_type": "code",
     "collapsed": false,
     "input": [
      "from selenium import webdriver"
     ],
     "language": "python",
     "metadata": {},
     "outputs": [],
     "prompt_number": 1
    },
    {
     "cell_type": "code",
     "collapsed": false,
     "input": [
      "target_url = 'http://news.tv-asahi.co.jp/news_politics/articles/000041338.html'\n",
      "driver = webdriver.PhantomJS()\n",
      "driver.get(target_url)"
     ],
     "language": "python",
     "metadata": {},
     "outputs": [],
     "prompt_number": 2
    },
    {
     "cell_type": "code",
     "collapsed": false,
     "input": [
      "root = lxml.html.fromstring(driver.page_source)\n",
      "links = root.cssselect('#relatedNews a')\n",
      "for link in links:\n",
      "    print link.text"
     ],
     "language": "python",
     "metadata": {},
     "outputs": [
      {
       "output_type": "stream",
       "stream": "stdout",
       "text": [
        "\u7b2c3\u6b21\u5b89\u500d\u5185\u95a3\u307e\u3082\u306a\u304f\u767a\u8db3\u3000\u9632\u885b\u5927\u81e3\u306e\u307f\u4ea4\u4ee3\n",
        "\u5b89\u500d\u664b\u4e09\u6c0f\u3092\u7b2c97\u4ee3\u7dcf\u7406\u5927\u81e3\u306b\u6307\u540d\u3000\u8846\u8b70\u9662\u672c\u4f1a\u8b70\n",
        "\u304d\u3087\u3046\u7279\u5225\u56fd\u4f1a\u53ec\u96c6\u3000\u591c\u306b\u306f\u7b2c3\u6b21\u5b89\u500d\u5185\u95a3\u304c\u767a\u8db3\n",
        "\u7b2c3\u6b21\u5b89\u500d\u5185\u95a3\u767a\u8db3\u3078\u3000\u6c5f\u6e21\u9632\u885b\u5927\u81e3\u304c\u518d\u4efb\u3092\u8f9e\u9000\n",
        "\u300c\u5b9f\u308a\u591a\u304d1\u5e74\u300d\u5b89\u500d\u7dcf\u7406\u3001\u4eca\u5e74\u3092\u632f\u308a\u8fd4\u308a\u3072\u3068\u8a00\n"
       ]
      }
     ],
     "prompt_number": 5
    },
    {
     "cell_type": "code",
     "collapsed": false,
     "input": [],
     "language": "python",
     "metadata": {},
     "outputs": []
    }
   ],
   "metadata": {}
  }
 ]
}